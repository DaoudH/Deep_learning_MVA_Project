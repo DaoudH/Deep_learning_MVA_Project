{
 "cells": [
  {
   "cell_type": "markdown",
   "metadata": {},
   "source": [
    "**You may need to install [OpenCV](https://pypi.python.org/pypi/opencv-python) and [scikit-video](http://www.scikit-video.org/stable/).**"
   ]
  },
  {
   "cell_type": "code",
   "execution_count": 59,
   "metadata": {},
   "outputs": [],
   "source": [
    "import keras\n",
    "import numpy as np\n",
    "import io\n",
    "import base64\n",
    "from IPython.display import HTML\n",
    "import skvideo.io\n",
    "import cv2\n",
    "import json\n",
    "\n",
    "from keras.models import Sequential,model_from_json\n",
    "from keras.layers.core import Dense,Flatten\n",
    "from keras.optimizers import sgd\n",
    "from keras.layers import Conv2D, MaxPooling2D, Activation, AveragePooling2D,Reshape,BatchNormalization"
   ]
  },
  {
   "cell_type": "markdown",
   "metadata": {},
   "source": [
    "# MiniProject #3: Deep Reinforcement Learning"
   ]
  },
  {
   "cell_type": "markdown",
   "metadata": {},
   "source": [
    "__Notations__: $E_p$ is the expectation under probability $p$. Please justify each of your answer and widely comment your code."
   ]
  },
  {
   "cell_type": "markdown",
   "metadata": {},
   "source": [
    "# Context"
   ]
  },
  {
   "cell_type": "markdown",
   "metadata": {},
   "source": [
    "In a reinforcement learning algorithm, we modelize each step $t$ as an action $a_t$ obtained from a state $s_t$, i.e. $\\{(a_{t},s_{t})_{t\\leq T}\\}$ having the Markov property. We consider a discount factor $\\gamma \\in [0,1]$ that ensures convergence. The goal is to find among all the policies $\\pi$, one that maximizes the expected reward:\n",
    "\n",
    "\\begin{equation*}\n",
    "R(\\pi)=\\sum_{t\\leq T}E_{p^{\\pi}}[\\gamma^t r(s_{t},a_{t})] \\> ,\n",
    "\\end{equation*}\n",
    "\n",
    "where: \n",
    "\\begin{equation*}p^{\\pi}(a_{0},a_{1},s_{1},...,a_{T},s_{T})=p(a_{0})\\prod_{t=1}^{T}\\pi(a_{t}|s_{t})p(s_{t+1}|s_{t},a_{t}) \\> .\n",
    "\\end{equation*}\n",
    "\n",
    "We note the $Q$-function:\n",
    "\n",
    "\\begin{equation*}Q^\\pi(s,a)=E_{p^{\\pi}}[\\sum_{t\\leq T}\\gamma^{t}r(s_{t},a_{t})|s_{0}=s,a_{0}=a] \\> .\n",
    "\\end{equation*}\n",
    "\n",
    "Thus, the optimal Q function is:\n",
    "\\begin{equation*}\n",
    "Q^*(s,a)=\\max_{\\pi}Q^\\pi(s,a) \\> .\n",
    "\\end{equation*}\n",
    "\n",
    "In this project, we will apply the deep reinforcement learning techniques to a simple game: an agent will have to learn from scratch a policy that will permit it maximizing a reward."
   ]
  },
  {
   "cell_type": "markdown",
   "metadata": {},
   "source": [
    "## The environment, the agent and the game"
   ]
  },
  {
   "cell_type": "markdown",
   "metadata": {},
   "source": [
    "### The environment"
   ]
  },
  {
   "cell_type": "markdown",
   "metadata": {},
   "source": [
    "```Environment``` is an abstract class that represents the states, rewards, and actions to obtain the new state."
   ]
  },
  {
   "cell_type": "code",
   "execution_count": 60,
   "metadata": {},
   "outputs": [],
   "source": [
    "class Environment(object):\n",
    "    def __init__(self):\n",
    "        pass\n",
    "\n",
    "    def act(self, act):\n",
    "        \"\"\"\n",
    "        One can act on the environment and obtain its reaction:\n",
    "        - the new state\n",
    "        - the reward of the new state\n",
    "        - should we continue the game?\n",
    "\n",
    "        :return: state, reward, game_over\n",
    "        \"\"\"\n",
    "        pass\n",
    "\n",
    "\n",
    "    def reset(self):\n",
    "        \"\"\"\n",
    "        Reinitialize the environment to a random state and returns\n",
    "        the original state\n",
    "\n",
    "        :return: state\n",
    "        \"\"\"\n",
    "        pass\n",
    "    \n",
    "    def draw(self):\n",
    "        \"\"\"\n",
    "        Visualize in the console or graphically the current state\n",
    "        \"\"\"\n",
    "        pass"
   ]
  },
  {
   "cell_type": "markdown",
   "metadata": {},
   "source": [
    "The method ```act``` allows to act on the environment at a given state $s_t$ (stored internally), via action $a_t$. The method will return the new state $s_{t+1}$, the reward $r(s_{t},a_{t})$ and determines if $t\\leq T$ (*game_over*).\n",
    "\n",
    "The method ```reset``` simply reinitializes the environment to a random state $s_0$.\n",
    "\n",
    "The method ```draw``` displays the current state $s_t$ (this is useful to check the behavior of the Agent).\n",
    "\n",
    "We modelize $s_t$ as a tensor, while $a_t$ is an integer."
   ]
  },
  {
   "cell_type": "markdown",
   "metadata": {},
   "source": [
    "### The Agent"
   ]
  },
  {
   "cell_type": "markdown",
   "metadata": {},
   "source": [
    "The goal of the ```Agent``` is to interact with the ```Environment``` by proposing actions $a_t$ obtained from a given state $s_t$ to attempt to maximize its __reward__ $r(s_t,a_t)$. We propose the following abstract class:"
   ]
  },
  {
   "cell_type": "code",
   "execution_count": 61,
   "metadata": {},
   "outputs": [],
   "source": [
    "class Agent(object):\n",
    "    def __init__(self, epsilon=0.1, n_action=4):\n",
    "        self.epsilon = epsilon\n",
    "        self.n_action = n_action\n",
    "    \n",
    "    def set_epsilon(self,e):\n",
    "        self.epsilon = e\n",
    "\n",
    "    def act(self,s,train=True):\n",
    "        \"\"\" This function should return the next action to do:\n",
    "        an integer between 0 and 4 (not included) with a random exploration of epsilon\"\"\"\n",
    "        if train:\n",
    "            if np.random.rand() <= self.epsilon:\n",
    "                a = np.random.randint(0, self.n_action, size=1)[0]\n",
    "            else:\n",
    "                a = self.learned_act(s)\n",
    "        else: # in some cases, this can improve the performance.. remove it if poor performances\n",
    "            a = self.learned_act(s)\n",
    "\n",
    "        return a\n",
    "\n",
    "    def learned_act(self,s):\n",
    "        \"\"\" Act via the policy of the agent, from a given state s\n",
    "        it proposes an action a\"\"\"\n",
    "        pass\n",
    "\n",
    "    def reinforce(self, s, n_s, a, r, game_over_):\n",
    "        \"\"\" This function is the core of the learning algorithm. \n",
    "        It takes as an input the current state s_, the next state n_s_\n",
    "        the action a_ used to move from s_ to n_s_ and the reward r_.\n",
    "        \n",
    "        Its goal is to learn a policy.\n",
    "        \"\"\"\n",
    "        pass\n",
    "\n",
    "    def save(self):\n",
    "        \"\"\" This function returns basic stats if applicable: the\n",
    "        loss and/or the model\"\"\"\n",
    "        pass\n",
    "\n",
    "    def load(self):\n",
    "        \"\"\" This function allows to restore a model\"\"\"\n",
    "        pass"
   ]
  },
  {
   "cell_type": "markdown",
   "metadata": {},
   "source": [
    "***\n",
    "__Question 1__:\n",
    "Explain the function act. Why is ```epsilon``` essential?"
   ]
  },
  {
   "cell_type": "markdown",
   "metadata": {},
   "source": [
    ">This function takes a given state s (the current state) and a boolean variable to indicate if the action could rely on the history or not and returns the next action of the agent. if train=False, so the action will be dependent to the previous cumulated knowledge. To allow the agent to learn new things and strengthen its strategy, and to avoid bias, the agent can act randomly if train=True as he can act following the epsilon value of Epsilon-Greedy Algorithm. The epsilon parameter allows to control the exploration. This is the  𝜖 -greedy strategy. This is one of the simplest possible algorithms for trading off exploration and exploitation, where the agent can make the decision at each step of the way; he can either choose to take a random action or choose the agent’s trusted action. If epsilon=0, the agent will choose based on history. If epsion =1, he will act randomly at each time step."
   ]
  },
  {
   "cell_type": "markdown",
   "metadata": {},
   "source": [
    "***\n",
    "### The Game"
   ]
  },
  {
   "cell_type": "markdown",
   "metadata": {},
   "source": [
    "The ```Agent``` and the ```Environment``` work in an interlaced way as in the following (take some time to understand this code as it is the core of the project)\n",
    "\n",
    "```python\n",
    "\n",
    "epoch = 300\n",
    "env = Environment()\n",
    "agent = Agent()\n",
    "\n",
    "\n",
    "# Number of won games\n",
    "score = 0\n",
    "loss = 0\n",
    "\n",
    "\n",
    "for e in range(epoch):\n",
    "    # At each epoch, we restart to a fresh game and get the initial state\n",
    "    state = env.reset()\n",
    "    # This assumes that the games will end\n",
    "    game_over = False\n",
    "\n",
    "    win = 0\n",
    "    lose = 0\n",
    "    \n",
    "    while not game_over:\n",
    "        # The agent performs an action\n",
    "        action = agent.act(state)\n",
    "\n",
    "        # Apply an action to the environment, get the next state, the reward\n",
    "        # and if the games end\n",
    "        prev_state = state\n",
    "        state, reward, game_over = env.act(action)\n",
    "\n",
    "        # Update the counters\n",
    "        if reward > 0:\n",
    "            win = win + reward\n",
    "        if reward < 0:\n",
    "            lose = lose -reward\n",
    "\n",
    "        # Apply the reinforcement strategy\n",
    "        loss = agent.reinforce(prev_state, state,  action, reward, game_over)\n",
    "\n",
    "    # Save as a mp4\n",
    "    if e % 10 == 0:\n",
    "        env.draw(e)\n",
    "\n",
    "    # Update stats\n",
    "    score += win-lose\n",
    "\n",
    "    print(\"Epoch {:03d}/{:03d} | Loss {:.4f} | Win/lose count {}/{} ({})\"\n",
    "          .format(e, epoch, loss, win, lose, win-lose))\n",
    "    agent.save()\n",
    "```"
   ]
  },
  {
   "cell_type": "markdown",
   "metadata": {},
   "source": [
    "# The game, *eat cheese*"
   ]
  },
  {
   "cell_type": "markdown",
   "metadata": {},
   "source": [
    "A rat runs on an island and tries to eat as much as possible. The island is subdivided into $N\\times N$ cells, in which there are cheese (+0.5) and poisonous cells (-1). The rat has a visibility of 2 cells (thus it can see $5^2$ cells). The rat is given a time $T$ to accumulate as much food as possible. It can perform 4 actions: going up, down, left, right. \n",
    "\n",
    "The goal is to code an agent to solve this task that will learn by trial and error. We propose the following environment:"
   ]
  },
  {
   "cell_type": "code",
   "execution_count": 62,
   "metadata": {},
   "outputs": [],
   "source": [
    "class Environment(object):\n",
    "    def __init__(self, grid_size=10, max_time=500, temperature=0.1):\n",
    "        grid_size = grid_size+4\n",
    "        self.grid_size = grid_size\n",
    "        self.max_time = max_time\n",
    "        self.temperature = temperature\n",
    "\n",
    "        #board on which one plays\n",
    "        self.board = np.zeros((grid_size,grid_size))\n",
    "        self.position = np.zeros((grid_size,grid_size))\n",
    "\n",
    "        # coordinate of the cat\n",
    "        self.x = 0\n",
    "        self.y = 1\n",
    "\n",
    "        # self time\n",
    "        self.t = 0\n",
    "\n",
    "        self.scale=16\n",
    "\n",
    "        self.to_draw = np.zeros((max_time+2, grid_size*self.scale, grid_size*self.scale, 3))\n",
    "\n",
    "\n",
    "    def draw(self,e):\n",
    "        skvideo.io.vwrite(str(e) + '.mp4', self.to_draw)\n",
    "\n",
    "    def get_frame(self,t):\n",
    "        b = np.zeros((self.grid_size,self.grid_size,3))+128\n",
    "        b[self.board>0,0] = 256\n",
    "        b[self.board < 0, 2] = 256\n",
    "        b[self.x,self.y,:]=256\n",
    "        b[-2:,:,:]=0\n",
    "        b[:,-2:,:]=0\n",
    "        b[:2,:,:]=0\n",
    "        b[:,:2,:]=0\n",
    "        \n",
    "        b =  cv2.resize(b, None, fx=self.scale, fy=self.scale, interpolation=cv2.INTER_NEAREST)\n",
    "\n",
    "        self.to_draw[t,:,:,:]=b\n",
    "\n",
    "\n",
    "    def act(self, action):\n",
    "        \"\"\"This function returns the new state, reward and decides if the\n",
    "        game ends.\"\"\"\n",
    "\n",
    "        self.get_frame(int(self.t))\n",
    "\n",
    "        self.position = np.zeros((self.grid_size, self.grid_size))\n",
    "\n",
    "        self.position[0:2,:]= -1\n",
    "        self.position[:,0:2] = -1\n",
    "        self.position[-2:, :] = -1\n",
    "        self.position[:, -2:] = -1\n",
    "\n",
    "        self.position[self.x, self.y] = 1\n",
    "        if action == 0:\n",
    "            if self.x == self.grid_size-3:\n",
    "                self.x = self.x-1\n",
    "            else:\n",
    "                self.x = self.x + 1\n",
    "        elif action == 1:\n",
    "            if self.x == 2:\n",
    "                self.x = self.x+1\n",
    "            else:\n",
    "                self.x = self.x-1\n",
    "        elif action == 2:\n",
    "            if self.y == self.grid_size - 3:\n",
    "                self.y = self.y - 1\n",
    "            else:\n",
    "                self.y = self.y + 1\n",
    "        elif action == 3:\n",
    "            if self.y == 2:\n",
    "                self.y = self.y + 1\n",
    "            else:\n",
    "                self.y = self.y - 1\n",
    "        else:\n",
    "            RuntimeError('Error: action not recognized')\n",
    "\n",
    "        self.t = self.t + 1\n",
    "        reward = self.board[self.x, self.y]\n",
    "        self.board[self.x, self.y] = 0\n",
    "        game_over = self.t > self.max_time\n",
    "        state = np.concatenate((self.board.reshape(self.grid_size, self.grid_size,1),\n",
    "                        self.position.reshape(self.grid_size, self.grid_size,1)),axis=2)\n",
    "        state = state[self.x-2:self.x+3,self.y-2:self.y+3,:]\n",
    "\n",
    "        return state, reward, game_over\n",
    "\n",
    "    def reset(self):\n",
    "        \"\"\"This function resets the game and returns the initial state\"\"\"\n",
    "\n",
    "        self.x = np.random.randint(3, self.grid_size-3, size=1)[0]\n",
    "        self.y = np.random.randint(3, self.grid_size-3, size=1)[0]\n",
    "\n",
    "\n",
    "        bonus = 0.5*np.random.binomial(1,self.temperature,size=self.grid_size**2)\n",
    "        bonus = bonus.reshape(self.grid_size,self.grid_size)\n",
    "\n",
    "        malus = -1.0*np.random.binomial(1,self.temperature,size=self.grid_size**2)\n",
    "        malus = malus.reshape(self.grid_size, self.grid_size)\n",
    "\n",
    "        self.to_draw = np.zeros((self.max_time+2, self.grid_size*self.scale, self.grid_size*self.scale, 3))\n",
    "\n",
    "\n",
    "        malus[bonus>0]=0\n",
    "\n",
    "        self.board = bonus + malus\n",
    "\n",
    "        self.position = np.zeros((self.grid_size, self.grid_size))\n",
    "        self.position[0:2,:]= -1\n",
    "        self.position[:,0:2] = -1\n",
    "        self.position[-2:, :] = -1\n",
    "        self.position[:, -2:] = -1\n",
    "        self.board[self.x,self.y] = 0\n",
    "        self.t = 0\n",
    "\n",
    "        state = np.concatenate((\n",
    "                               self.board.reshape(self.grid_size, self.grid_size,1),\n",
    "                        self.position.reshape(self.grid_size, self.grid_size,1)),axis=2)\n",
    "\n",
    "        state = state[self.x - 2:self.x + 3, self.y - 2:self.y + 3, :]\n",
    "        return state"
   ]
  },
  {
   "cell_type": "markdown",
   "metadata": {},
   "source": [
    "The following elements are important because they correspond to the hyper parameters for this project:"
   ]
  },
  {
   "cell_type": "code",
   "execution_count": 63,
   "metadata": {},
   "outputs": [],
   "source": [
    "# parameters\n",
    "size = 13\n",
    "T=200\n",
    "temperature=0.3\n",
    "epochs_train=40 # set small when debugging\n",
    "epochs_test=20 # set small when debugging\n",
    "\n",
    "# display videos\n",
    "def display_videos(name):\n",
    "    video = io.open(name, 'r+b').read()\n",
    "    encoded = base64.b64encode(video)\n",
    "    return '''<video alt=\"test\" controls>\n",
    "                <source src=\"data:video/mp4;base64,{0}\" type=\"video/mp4\" />\n",
    "             </video>'''.format(encoded.decode('ascii'))"
   ]
  },
  {
   "cell_type": "markdown",
   "metadata": {},
   "source": [
    "__Question 2__ Explain the use of the arrays ```position``` and ```board```."
   ]
  },
  {
   "cell_type": "markdown",
   "metadata": {},
   "source": [
    ">The position is the explorable environment used to store 0 in cells where the mouvement is possible -1 where it's not.\n",
    "\n",
    ">the board gives the reward in each cell at each time t"
   ]
  },
  {
   "cell_type": "markdown",
   "metadata": {},
   "source": [
    "## Random Agent"
   ]
  },
  {
   "cell_type": "markdown",
   "metadata": {},
   "source": [
    "***\n",
    "__Question 3__ Implement a random Agent (only ```learned_act``` needs to be implemented):"
   ]
  },
  {
   "cell_type": "code",
   "execution_count": 64,
   "metadata": {},
   "outputs": [],
   "source": [
    "class RandomAgent(Agent):\n",
    "    def __init__(self):\n",
    "        super(RandomAgent, self).__init__()\n",
    "        pass\n",
    "    def learned_act(self, s):\n",
    "        a = np.random.randint(0, self.n_action, size=1)[0]\n",
    "        return a"
   ]
  },
  {
   "cell_type": "markdown",
   "metadata": {},
   "source": [
    "***\n",
    "***\n",
    "__Question 4__ Visualize the game moves. You need to fill in the following function for the evaluation:"
   ]
  },
  {
   "cell_type": "code",
   "execution_count": 65,
   "metadata": {},
   "outputs": [],
   "source": [
    "def test(agent,env,epochs,prefix=''):\n",
    "    # Number of won games\n",
    "    score = 0\n",
    " \n",
    "    for e in range(epochs):\n",
    "        \n",
    "        s= env.reset()\n",
    "        game_over = False # This assumes that the games won't end\n",
    "        win = 0\n",
    "        lose = 0\n",
    "         \n",
    "        while not game_over:\n",
    "            #I choose train = False, because in test the action must be dependent to the previous cumulated knowledge\n",
    "            a = agent.act(s, False) \n",
    "            s,r,game_over =env.act(a)\n",
    "            if r>0 :\n",
    "                win +=r\n",
    "            if r < 0:\n",
    "                lose+=-r\n",
    "\n",
    "        # Save as a mp4\n",
    "        env.draw(prefix+str(e))\n",
    "\n",
    "        # Update stats\n",
    "        score = score + win-lose\n",
    "\n",
    "        print(\"Win/lose count {}/{}. Average score ({})\"\n",
    "              .format(win, lose, score/(1+e)))\n",
    "    print('Final score: '+str(score/epochs))"
   ]
  },
  {
   "cell_type": "code",
   "execution_count": 66,
   "metadata": {},
   "outputs": [
    {
     "name": "stdout",
     "output_type": "stream",
     "text": [
      "Win/lose count 9.0/12.0. Average score (-3.0)\n",
      "Win/lose count 8.5/15.0. Average score (-4.75)\n",
      "Win/lose count 8.5/16.0. Average score (-5.666666666666667)\n",
      "Win/lose count 11.0/17.0. Average score (-5.75)\n",
      "Win/lose count 12.0/15.0. Average score (-5.2)\n",
      "Win/lose count 8.5/10.0. Average score (-4.583333333333333)\n",
      "Win/lose count 11.5/8.0. Average score (-3.4285714285714284)\n",
      "Win/lose count 13.0/15.0. Average score (-3.25)\n",
      "Win/lose count 8.5/15.0. Average score (-3.611111111111111)\n",
      "Win/lose count 10.0/18.0. Average score (-4.05)\n",
      "Win/lose count 6.5/16.0. Average score (-4.545454545454546)\n",
      "Win/lose count 8.0/7.0. Average score (-4.083333333333333)\n",
      "Win/lose count 12.0/10.0. Average score (-3.6153846153846154)\n",
      "Win/lose count 10.5/16.0. Average score (-3.75)\n",
      "Win/lose count 8.0/8.0. Average score (-3.5)\n",
      "Win/lose count 10.0/7.0. Average score (-3.09375)\n",
      "Win/lose count 8.0/10.0. Average score (-3.0294117647058822)\n",
      "Win/lose count 9.5/20.0. Average score (-3.4444444444444446)\n",
      "Win/lose count 10.5/12.0. Average score (-3.3421052631578947)\n",
      "Win/lose count 10.0/14.0. Average score (-3.375)\n",
      "Final score: -3.375\n"
     ]
    },
    {
     "data": {
      "text/html": [
       "<video alt=\"test\" controls>\n",
       "                <source src=\"data:video/mp4;base64,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\" type=\"video/mp4\" />\n",
       "             </video>"
      ],
      "text/plain": [
       "<IPython.core.display.HTML object>"
      ]
     },
     "execution_count": 66,
     "metadata": {},
     "output_type": "execute_result"
    }
   ],
   "source": [
    "# Initialize the game\n",
    "env = Environment(grid_size=size, max_time=T,temperature=temperature)\n",
    "\n",
    "# Initialize the agent!\n",
    "agent = RandomAgent()\n",
    "\n",
    "test(agent,env,epochs_test,prefix='random')\n",
    "HTML(display_videos('random0.mp4'))"
   ]
  },
  {
   "cell_type": "markdown",
   "metadata": {},
   "source": [
    "***\n",
    "## DQN"
   ]
  },
  {
   "cell_type": "markdown",
   "metadata": {},
   "source": [
    "Let us assume here that $T=\\infty$.\n",
    "\n",
    "***\n",
    "__Question 5__ Let $\\pi$ be a policy, show that:\n",
    "\n",
    "\\begin{equation*}\n",
    "Q^{\\pi}(s,a)=E_{(s',a')\\sim p(.|s,a)}[r(s,a)+\\gamma Q^{\\pi}(s',a')]\n",
    "\\end{equation*}\n",
    "\n",
    "Then, show that for the optimal policy $\\pi^*$ (we assume its existence), the following holds: \n",
    "\n",
    "\\begin{equation*}\n",
    "Q^{*}(s,a)=E_{s'\\sim \\pi^*(.|s,a)}[r(s,a)+\\gamma\\max_{a'}Q^{*}(s',a')].\n",
    "\\end{equation*}\n",
    "Finally, deduce that a plausible objective is:\n",
    "\n",
    "\\begin{equation*}\n",
    "\\mathcal{L}(\\theta)=E_{s' \\sim \\pi^*(.|s,a)}\\Vert r+\\gamma\\max\\max_{a'}Q(s',a',\\theta)-Q(s,a,\\theta)\\Vert^{2}.\n",
    "\\end{equation*}\n",
    "\n",
    "\n"
   ]
  },
  {
   "cell_type": "markdown",
   "metadata": {},
   "source": [
    "Let $\\pi$ be a policy\n",
    "\n",
    "\\begin{align*}\n",
    "Q^\\pi(s,a)&=E[\\sum_{t=0}^{\\infty}\\gamma^{t}r(s_{t},a_{t})|s_{0}=s,a_{0}=a] \\>\\\\\n",
    "&=r(s, a) + E[E[\\sum_{t=1}^{\\infty}\\gamma^{t}r(s_{t},a_{t})|s_1=s', a_1=a')]|s_0=s, a_0=a]\\\\\n",
    "&= r(s,a) + \\gamma E[E[\\sum_{t=0}^{\\infty}\\gamma^{t}r(s_{t+1},a_{t+1})|s_1=s', a_1=a')]|s_0=s, a_0=a]\\\\\n",
    "&=E_{(s',a') \\sim p(\\cdot|s, a)}[r(s,a)+\\gamma Q^{\\pi}(s',a')] ( because \\sum_{(s',a')} p(s_{1}=s',a_{1}=a' |s_0 = s, a_0 = a ) r(s,a) = r(s,a)\n",
    "\\end{align*}\n",
    "\n",
    "The goal is to maximize $Q^\\pi(s,a)$ with respect to $\\pi$.\n",
    "By definition of $\\pi^*$ the optimal policy and thanks to the stability of bellman operator, we have\n",
    "\n",
    "\\begin{align*}\n",
    "\\max_\\pi Q^{\\pi}(s,a)&=\\max_\\pi E_{(s',a')\\sim p(.|s,a)}[r(s,a)+\\gamma Q^{\\pi}(s',a')]\\\\\n",
    "&=\\max_\\pi \\sum_{s', a'} \\pi(a'|s) p(s'|s,a)[r(s,a)+\\gamma Q^{\\pi}(s',a')]\\\\\n",
    "&=\\sum_{s', a'} \\pi^*(a'|s) p(s'|s,a)[r(s,a)+\\gamma Q^{*}(s',a')] \\\\\n",
    "&=E_{s'\\sim p(s'|s,a)}[r(s,a)+\\gamma\\max_{a'}Q^{*}(s',a')].\\\\\n",
    "\\end{align*}\n",
    "\n",
    "\n",
    "\n",
    ">To find the optimal loss, we compare the estimated $Q$  and the optimal $Q$, which gives the loss $\\mathcal{L}(\\theta)$ above.\\\\"
   ]
  },
  {
   "cell_type": "markdown",
   "metadata": {},
   "source": [
    "***\n",
    "The DQN-learning algorithm relies on these derivations to train the parameters $\\theta$ of a Deep Neural Network:\n",
    "\n",
    "1. At the state $s_t$, select the action $a_t$ with best reward using $Q_t$ and store the results;\n",
    "\n",
    "2. Obtain the new state $s_{t+1}$ from the environment $p$;\n",
    "\n",
    "3. Store $(s_t,a_t,s_{t+1})$;\n",
    "\n",
    "4. Obtain $Q_{t+1}$ by minimizing  $\\mathcal{L}$ from a recovered batch from the previously stored results.\n",
    "\n",
    "***\n",
    "__Question 6__ Implement the class ```Memory``` that stores moves (in a replay buffer) via ```remember``` and provides a ```random_access``` to these. Specify a maximum memory size to avoid side effects. You can for example use a ```list()``` and set by default ```max_memory=100```."
   ]
  },
  {
   "cell_type": "code",
   "execution_count": 68,
   "metadata": {},
   "outputs": [],
   "source": [
    "from collections import deque\n",
    "\n",
    "class Memory(object):\n",
    "    def __init__(self, max_memory=100):\n",
    "        self.max_memory = max_memory\n",
    "        self.memory = deque(maxlen=max_memory)        \n",
    "\n",
    "    def remember(self, m):\n",
    "        self.memory.append(m)\n",
    "            \n",
    "\n",
    "    def random_access(self):\n",
    "        idx = np.random.randint(0, len(self.memory), size=1)[0]\n",
    "        return self.memory[idx]"
   ]
  },
  {
   "cell_type": "markdown",
   "metadata": {},
   "source": [
    "***\n",
    "The pipeline we will use for training is given below:"
   ]
  },
  {
   "cell_type": "code",
   "execution_count": 69,
   "metadata": {},
   "outputs": [],
   "source": [
    "def train(agent,env,epoch,prefix=''):\n",
    "    # Number of won games\n",
    "    score = 0\n",
    "    loss = 0\n",
    "\n",
    "    for e in range(epoch):\n",
    "        # At each epoch, we restart to a fresh game and get the initial state\n",
    "        state = env.reset()\n",
    "        # This assumes that the games will terminate\n",
    "        game_over = False\n",
    "\n",
    "        win = 0\n",
    "        lose = 0\n",
    "\n",
    "        while not game_over:\n",
    "            # The agent performs an action\n",
    "            action = agent.act(state)\n",
    "\n",
    "            # Apply an action to the environment, get the next state, the reward\n",
    "            # and if the games end\n",
    "            prev_state = state\n",
    "            state, reward, game_over = env.act(action)\n",
    "\n",
    "            # Update the counters\n",
    "            if reward > 0:\n",
    "                win = win + reward\n",
    "            if reward < 0:\n",
    "                lose = lose -reward\n",
    "\n",
    "            # Apply the reinforcement strategy\n",
    "            loss = agent.reinforce(prev_state, state,  action, reward, game_over)\n",
    "\n",
    "        # Save as a mp4\n",
    "        if e % 10 == 0:\n",
    "            env.draw(prefix+str(e))\n",
    "\n",
    "        # Update stats\n",
    "        score += win-lose\n",
    "\n",
    "        print(\"Epoch {:03d}/{:03d} | Loss {:.4f} | Win/lose count {}/{} ({})\"\n",
    "              .format(e, epoch, loss, win, lose, win-lose))\n",
    "        agent.save(name_weights=prefix+'model.h5',name_model=prefix+'model.json')"
   ]
  },
  {
   "cell_type": "markdown",
   "metadata": {},
   "source": [
    "***\n",
    "__Question 7__ Implement the DQN training algorithm using a cascade of fully connected layers. You can use different learning rate, batch size or memory size parameters. In particular, the loss might oscillate while the player will start to win the games. You have to find a good criterium."
   ]
  },
  {
   "cell_type": "code",
   "execution_count": 70,
   "metadata": {},
   "outputs": [],
   "source": [
    "class DQN(Agent):\n",
    "    def __init__(self, grid_size,  epsilon = 0.1, memory_size=100, batch_size = 16,n_state=2):\n",
    "        super(DQN, self).__init__(epsilon = epsilon)\n",
    "\n",
    "        # Discount for Q learning\n",
    "        self.discount = 0.99\n",
    "        \n",
    "        self.grid_size = grid_size\n",
    "        \n",
    "        # number of state\n",
    "        self.n_state = n_state\n",
    "\n",
    "        # Memory\n",
    "        self.memory = Memory(memory_size)\n",
    "        \n",
    "        # Batch size when learning\n",
    "        self.batch_size = batch_size\n",
    "\n",
    "    def learned_act(self, s):\n",
    "        return np.argmax(self.model.predict(s.reshape([1,s.shape[0],s.shape[1],s.shape[2]]))[0,:])\n",
    "\n",
    "    def reinforce(self, s_, n_s_, a_, r_, game_over_):\n",
    "        self.memory.remember([s_, n_s_, a_, r_, game_over_])\n",
    "        input_states = np.zeros((self.batch_size, 5,5,self.n_state))\n",
    "        target_q = np.zeros((self.batch_size, 4))\n",
    "        \n",
    "        for i in range(self.batch_size):\n",
    "            s, ns, a, r, game_over  = self.memory.random_access()\n",
    "            input_states[i] = s\n",
    "            target_q[i] =self.model.predict(s.reshape([1,s.shape[0],s.shape[1],s.shape[2]]))[0]\n",
    "            input_states[i] = s\n",
    "            if game_over:\n",
    "                target_q[i,a] = r\n",
    "            else:\n",
    "                target_q[i,a] = r  + self.discount*max(self.model.predict(ns.reshape([1,s_.shape[0],s_.shape[1],s.shape[2]]))[0])\n",
    "        # HINT: Clip the target to avoid exploiding gradients.. -- clipping is a bit tighter\n",
    "        target_q = np.clip(target_q, -3, 3)\n",
    "        l = self.model.train_on_batch(input_states, target_q)\n",
    "        return l\n",
    "\n",
    "    def save(self,name_weights='model.h5',name_model='model.json'):\n",
    "        self.model.save_weights(name_weights, overwrite=True)\n",
    "        with open(name_model, \"w\") as outfile:\n",
    "            json.dump(self.model.to_json(), outfile)\n",
    "            \n",
    "    def load(self,name_weights='model.h5',name_model='model.json'):\n",
    "        with open(name_model, \"r\") as jfile:\n",
    "            model = model_from_json(json.load(jfile))\n",
    "        model.load_weights(name_weights)\n",
    "        model.compile(\"sgd\", \"mse\")\n",
    "        self.model = model\n",
    "            \n",
    "class DQN_FC(DQN):\n",
    "    def __init__(self, *args, lr=0.1,**kwargs):\n",
    "        super(DQN_FC, self).__init__( *args,**kwargs)\n",
    "        \n",
    "        # NN Model\n",
    "        model = Sequential()\n",
    "        model.add(Dense(32, input_shape=(5, 5, self.n_state), activation='relu'))\n",
    "        model.add(Flatten())\n",
    "        model.add(Dense(50,activation ='relu'))\n",
    "        model.add(Dense(4))\n",
    "        model.compile(sgd(lr=lr, decay=1e-4, momentum=0.0), \"mse\")\n",
    "        self.model = model"
   ]
  },
  {
   "cell_type": "code",
   "execution_count": 71,
   "metadata": {},
   "outputs": [
    {
     "name": "stdout",
     "output_type": "stream",
     "text": [
      "Epoch 000/040 | Loss 0.0012 | Win/lose count 3.5/3.0 (0.5)\n",
      "Epoch 001/040 | Loss 0.0007 | Win/lose count 7.0/4.0 (3.0)\n",
      "Epoch 002/040 | Loss 0.0011 | Win/lose count 5.5/4.0 (1.5)\n",
      "Epoch 003/040 | Loss 0.0035 | Win/lose count 8.5/6.0 (2.5)\n",
      "Epoch 004/040 | Loss 0.0549 | Win/lose count 2.5/5.0 (-2.5)\n",
      "Epoch 005/040 | Loss 0.0007 | Win/lose count 4.0/3.0 (1.0)\n",
      "Epoch 006/040 | Loss 0.0015 | Win/lose count 6.5/1.0 (5.5)\n",
      "Epoch 007/040 | Loss 0.0490 | Win/lose count 5.5/6.0 (-0.5)\n",
      "Epoch 008/040 | Loss 0.0614 | Win/lose count 4.5/5.0 (-0.5)\n",
      "Epoch 009/040 | Loss 0.0037 | Win/lose count 5.5/5.0 (0.5)\n",
      "Epoch 010/040 | Loss 0.0044 | Win/lose count 3.5/0 (3.5)\n",
      "Epoch 011/040 | Loss 0.0014 | Win/lose count 5.5/0 (5.5)\n",
      "Epoch 012/040 | Loss 0.0012 | Win/lose count 12.5/3.0 (9.5)\n",
      "Epoch 013/040 | Loss 0.0089 | Win/lose count 8.0/1.0 (7.0)\n",
      "Epoch 014/040 | Loss 0.0017 | Win/lose count 5.0/3.0 (2.0)\n",
      "Epoch 015/040 | Loss 0.0065 | Win/lose count 8.0/4.0 (4.0)\n",
      "Epoch 016/040 | Loss 0.0020 | Win/lose count 7.0/2.0 (5.0)\n",
      "Epoch 017/040 | Loss 0.0007 | Win/lose count 4.5/1.0 (3.5)\n",
      "Epoch 018/040 | Loss 0.0028 | Win/lose count 8.0/2.0 (6.0)\n",
      "Epoch 019/040 | Loss 0.0013 | Win/lose count 9.0/2.0 (7.0)\n",
      "Epoch 020/040 | Loss 0.0053 | Win/lose count 3.5/1.0 (2.5)\n",
      "Epoch 021/040 | Loss 0.0023 | Win/lose count 12.5/1.0 (11.5)\n",
      "Epoch 022/040 | Loss 0.0020 | Win/lose count 7.0/2.0 (5.0)\n",
      "Epoch 023/040 | Loss 0.0044 | Win/lose count 9.0/0 (9.0)\n",
      "Epoch 024/040 | Loss 0.0013 | Win/lose count 5.0/3.0 (2.0)\n",
      "Epoch 025/040 | Loss 0.0020 | Win/lose count 12.5/5.0 (7.5)\n",
      "Epoch 026/040 | Loss 0.0031 | Win/lose count 8.5/2.0 (6.5)\n",
      "Epoch 027/040 | Loss 0.0569 | Win/lose count 10.5/2.0 (8.5)\n",
      "Epoch 028/040 | Loss 0.0021 | Win/lose count 14.0/4.0 (10.0)\n",
      "Epoch 029/040 | Loss 0.0012 | Win/lose count 10.0/3.0 (7.0)\n",
      "Epoch 030/040 | Loss 0.0031 | Win/lose count 18.0/3.0 (15.0)\n",
      "Epoch 031/040 | Loss 0.0023 | Win/lose count 8.5/4.0 (4.5)\n",
      "Epoch 032/040 | Loss 0.0453 | Win/lose count 13.5/3.0 (10.5)\n",
      "Epoch 033/040 | Loss 0.0027 | Win/lose count 14.0/5.0 (9.0)\n",
      "Epoch 034/040 | Loss 0.0059 | Win/lose count 5.5/2.0 (3.5)\n",
      "Epoch 035/040 | Loss 0.0014 | Win/lose count 12.0/2.0 (10.0)\n",
      "Epoch 036/040 | Loss 0.0026 | Win/lose count 12.0/0 (12.0)\n",
      "Epoch 037/040 | Loss 0.0466 | Win/lose count 2.5/1.0 (1.5)\n",
      "Epoch 038/040 | Loss 0.0013 | Win/lose count 17.0/3.0 (14.0)\n",
      "Epoch 039/040 | Loss 0.0012 | Win/lose count 15.5/2.0 (13.5)\n"
     ]
    },
    {
     "data": {
      "text/html": [
       "<video alt=\"test\" controls>\n",
       "                <source src=\"data:video/mp4;base64,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\" type=\"video/mp4\" />\n",
       "             </video>"
      ],
      "text/plain": [
       "<IPython.core.display.HTML object>"
      ]
     },
     "execution_count": 71,
     "metadata": {},
     "output_type": "execute_result"
    }
   ],
   "source": [
    "env = Environment(grid_size=size, max_time=T, temperature=0.3)\n",
    "agent = DQN_FC(size, lr=.2, epsilon = 0.07, memory_size=2000, batch_size = 32)\n",
    "train(agent, env, epochs_train, prefix='fc_train')\n",
    "HTML(display_videos('fc_train30.mp4'))"
   ]
  },
  {
   "cell_type": "markdown",
   "metadata": {},
   "source": [
    "***\n",
    "***\n",
    "__Question 8__ Implement the DQN training algorithm using a CNN (for example, 2 convolutional layers and one final fully connected layer)."
   ]
  },
  {
   "cell_type": "code",
   "execution_count": 72,
   "metadata": {},
   "outputs": [],
   "source": [
    "class DQN_CNN(DQN):\n",
    "    def __init__(self, *args,lr=0.1,**kwargs):\n",
    "        super(DQN_CNN, self).__init__(*args,**kwargs)\n",
    "        model = Sequential()\n",
    "        model.add(Conv2D(64,(3,3),input_shape=(5,5,self.n_state,),activation='relu'))\n",
    "        model.add(Conv2D(32,(3,3),activation='relu'))\n",
    "        model.add(Flatten())\n",
    "        model.add(Dense(50,activation ='relu'))\n",
    "        model.add(Dense(4))\n",
    "        model.compile(sgd(lr=lr, decay=1e-4, momentum=0.0), \"mse\")\n",
    "        self.model = model\n"
   ]
  },
  {
   "cell_type": "code",
   "execution_count": 73,
   "metadata": {
    "scrolled": true
   },
   "outputs": [
    {
     "name": "stdout",
     "output_type": "stream",
     "text": [
      "Epoch 000/040 | Loss 0.0184 | Win/lose count 4.5/5.0 (-0.5)\n",
      "Epoch 001/040 | Loss 0.0031 | Win/lose count 4.5/7.0 (-2.5)\n",
      "Epoch 002/040 | Loss 0.0068 | Win/lose count 3.0/3.0 (0.0)\n",
      "Epoch 003/040 | Loss 0.0038 | Win/lose count 1.5/4.0 (-2.5)\n",
      "Epoch 004/040 | Loss 0.0015 | Win/lose count 3.0/7.0 (-4.0)\n",
      "Epoch 005/040 | Loss 0.0018 | Win/lose count 5.5/4.0 (1.5)\n",
      "Epoch 006/040 | Loss 0.0017 | Win/lose count 4.0/10.0 (-6.0)\n",
      "Epoch 007/040 | Loss 0.0013 | Win/lose count 2.5/3.0 (-0.5)\n",
      "Epoch 008/040 | Loss 0.0052 | Win/lose count 7.0/5.0 (2.0)\n",
      "Epoch 009/040 | Loss 0.0015 | Win/lose count 4.5/7.0 (-2.5)\n",
      "Epoch 010/040 | Loss 0.0049 | Win/lose count 3.0/4.0 (-1.0)\n",
      "Epoch 011/040 | Loss 0.0113 | Win/lose count 7.0/5.0 (2.0)\n",
      "Epoch 012/040 | Loss 0.0051 | Win/lose count 4.5/3.0 (1.5)\n",
      "Epoch 013/040 | Loss 0.0030 | Win/lose count 11.5/1.0 (10.5)\n",
      "Epoch 014/040 | Loss 0.0032 | Win/lose count 5.0/3.0 (2.0)\n",
      "Epoch 015/040 | Loss 0.1017 | Win/lose count 3.5/2.0 (1.5)\n",
      "Epoch 016/040 | Loss 0.0024 | Win/lose count 9.0/3.0 (6.0)\n",
      "Epoch 017/040 | Loss 0.0436 | Win/lose count 19.5/1.0 (18.5)\n",
      "Epoch 018/040 | Loss 0.0544 | Win/lose count 9.0/4.0 (5.0)\n",
      "Epoch 019/040 | Loss 0.0033 | Win/lose count 13.5/2.0 (11.5)\n",
      "Epoch 020/040 | Loss 0.0614 | Win/lose count 7.5/6.0 (1.5)\n",
      "Epoch 021/040 | Loss 0.0050 | Win/lose count 12.5/7.0 (5.5)\n",
      "Epoch 022/040 | Loss 0.0056 | Win/lose count 13.0/4.0 (9.0)\n",
      "Epoch 023/040 | Loss 0.0076 | Win/lose count 16.5/9.0 (7.5)\n",
      "Epoch 024/040 | Loss 0.0052 | Win/lose count 9.5/1.0 (8.5)\n",
      "Epoch 025/040 | Loss 0.0018 | Win/lose count 17.5/0 (17.5)\n",
      "Epoch 026/040 | Loss 0.0033 | Win/lose count 12.5/2.0 (10.5)\n",
      "Epoch 027/040 | Loss 0.0015 | Win/lose count 17.0/6.0 (11.0)\n",
      "Epoch 028/040 | Loss 0.0027 | Win/lose count 5.0/1.0 (4.0)\n",
      "Epoch 029/040 | Loss 0.0022 | Win/lose count 14.5/4.0 (10.5)\n",
      "Epoch 030/040 | Loss 0.0027 | Win/lose count 17.5/2.0 (15.5)\n",
      "Epoch 031/040 | Loss 0.0027 | Win/lose count 11.5/6.0 (5.5)\n",
      "Epoch 032/040 | Loss 0.0027 | Win/lose count 20.5/6.0 (14.5)\n",
      "Epoch 033/040 | Loss 0.0020 | Win/lose count 7.0/2.0 (5.0)\n",
      "Epoch 034/040 | Loss 0.0028 | Win/lose count 16.0/4.0 (12.0)\n",
      "Epoch 035/040 | Loss 0.0026 | Win/lose count 18.5/3.0 (15.5)\n",
      "Epoch 036/040 | Loss 0.0029 | Win/lose count 14.0/3.0 (11.0)\n",
      "Epoch 037/040 | Loss 0.0529 | Win/lose count 16.5/4.0 (12.5)\n",
      "Epoch 038/040 | Loss 0.0024 | Win/lose count 22.0/4.0 (18.0)\n",
      "Epoch 039/040 | Loss 0.0022 | Win/lose count 15.5/2.0 (13.5)\n"
     ]
    },
    {
     "data": {
      "text/html": [
       "<video alt=\"test\" controls>\n",
       "                <source src=\"data:video/mp4;base64,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\" type=\"video/mp4\" />\n",
       "             </video>"
      ],
      "text/plain": [
       "<IPython.core.display.HTML object>"
      ]
     },
     "execution_count": 73,
     "metadata": {},
     "output_type": "execute_result"
    }
   ],
   "source": [
    "env = Environment(grid_size=size, max_time=T, temperature=0.3)\n",
    "agent = DQN_CNN(size, lr=.1, epsilon = 0.2, memory_size=2000, batch_size = 32)\n",
    "train(agent,env,epochs_train,prefix='cnn_train')\n",
    "HTML(display_videos('cnn_train30.mp4'))"
   ]
  },
  {
   "cell_type": "markdown",
   "metadata": {},
   "source": [
    "***\n",
    "***\n",
    "__Question 9__ Test both algorithms and compare their performances. Which issue(s) do you observe? Observe also different behaviors by changing the temperature."
   ]
  },
  {
   "cell_type": "code",
   "execution_count": 74,
   "metadata": {},
   "outputs": [
    {
     "name": "stdout",
     "output_type": "stream",
     "text": [
      "Test of the CNN\n",
      "Win/lose count 3.0/0. Average score (3.0)\n",
      "Win/lose count 19.5/0. Average score (11.25)\n",
      "Win/lose count 3.5/0. Average score (8.666666666666666)\n",
      "Win/lose count 2.0/0. Average score (7.0)\n",
      "Win/lose count 26.0/0. Average score (10.8)\n",
      "Win/lose count 6.5/0. Average score (10.083333333333334)\n",
      "Win/lose count 3.0/0. Average score (9.071428571428571)\n",
      "Win/lose count 15.5/0. Average score (9.875)\n",
      "Win/lose count 3.5/0. Average score (9.166666666666666)\n",
      "Win/lose count 11.0/0. Average score (9.35)\n",
      "Win/lose count 4.5/0. Average score (8.909090909090908)\n",
      "Win/lose count 5.5/0. Average score (8.625)\n",
      "Win/lose count 13.0/0. Average score (8.961538461538462)\n",
      "Win/lose count 17.5/0. Average score (9.571428571428571)\n",
      "Win/lose count 13.0/0. Average score (9.8)\n",
      "Win/lose count 20.5/0. Average score (10.46875)\n",
      "Win/lose count 3.5/1.0. Average score (10.0)\n",
      "Win/lose count 13.5/0. Average score (10.194444444444445)\n",
      "Win/lose count 17.0/0. Average score (10.552631578947368)\n",
      "Win/lose count 3.5/0. Average score (10.2)\n",
      "Final score: 10.2\n",
      "Test of the FC\n",
      "Win/lose count 0.5/0. Average score (0.5)\n",
      "Win/lose count 8.0/0. Average score (4.25)\n",
      "Win/lose count 5.0/0. Average score (4.5)\n",
      "Win/lose count 13.0/0. Average score (6.625)\n",
      "Win/lose count 13.5/0. Average score (8.0)\n",
      "Win/lose count 24.5/0. Average score (10.75)\n",
      "Win/lose count 3.0/0. Average score (9.642857142857142)\n",
      "Win/lose count 7.5/0. Average score (9.375)\n",
      "Win/lose count 5.5/0. Average score (8.944444444444445)\n",
      "Win/lose count 2.5/1.0. Average score (8.2)\n",
      "Win/lose count 0.5/0. Average score (7.5)\n",
      "Win/lose count 6.5/0. Average score (7.416666666666667)\n",
      "Win/lose count 4.5/0. Average score (7.1923076923076925)\n",
      "Win/lose count 6.0/0. Average score (7.107142857142857)\n",
      "Win/lose count 16.5/0. Average score (7.733333333333333)\n",
      "Win/lose count 6.5/0. Average score (7.65625)\n",
      "Win/lose count 10.5/0. Average score (7.823529411764706)\n",
      "Win/lose count 5.0/0. Average score (7.666666666666667)\n",
      "Win/lose count 2.0/0. Average score (7.368421052631579)\n",
      "Win/lose count 10.0/0. Average score (7.5)\n",
      "Final score: 7.5\n"
     ]
    }
   ],
   "source": [
    "env = Environment(grid_size=size, max_time=T,temperature=0.5)\n",
    "agent_cnn = DQN_CNN(size, lr=.1, epsilon = 0.2, memory_size=2000, batch_size = 32)\n",
    "agent_cnn.load(name_weights='cnn_trainmodel.h5',name_model='cnn_trainmodel.json')\n",
    "\n",
    "agent_fc = DQN_FC(size, lr=.2, epsilon = 0.07, memory_size=2000, batch_size = 32)\n",
    "agent_fc.load(name_weights='fc_trainmodel.h5',name_model='fc_trainmodel.json') # erreur corrigée, agent_fc au lieu de agent_cnn\n",
    "print('Test of the CNN')\n",
    "test(agent_cnn,env,epochs_test,prefix='cnn_test')\n",
    "print('Test of the FC')\n",
    "test(agent_fc,env,epochs_test,prefix='fc_test')"
   ]
  },
  {
   "cell_type": "code",
   "execution_count": 80,
   "metadata": {},
   "outputs": [
    {
     "data": {
      "text/html": [
       "<video alt=\"test\" controls>\n",
       "                <source src=\"data:video/mp4;base64,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\" type=\"video/mp4\" />\n",
       "             </video>"
      ],
      "text/plain": [
       "<IPython.core.display.HTML object>"
      ]
     },
     "execution_count": 80,
     "metadata": {},
     "output_type": "execute_result"
    }
   ],
   "source": [
    "HTML(display_videos('cnn_test16.mp4'))"
   ]
  },
  {
   "cell_type": "code",
   "execution_count": 79,
   "metadata": {},
   "outputs": [
    {
     "data": {
      "text/html": [
       "<video alt=\"test\" controls>\n",
       "                <source src=\"data:video/mp4;base64,AAAAIGZ0eXBpc29tAAACAGlzb21pc28yYXZjMW1wNDEAAAAIZnJlZQAAFm9tZGF0AAACrQYF//+p3EXpvebZSLeWLNgg2SPu73gyNjQgLSBjb3JlIDE1NyByMjkzNSA1NDVkZTJmIC0gSC4yNjQvTVBFRy00IEFWQyBjb2RlYyAtIENvcHlsZWZ0IDIwMDMtMjAxOCAtIGh0dHA6Ly93d3cudmlkZW9sYW4ub3JnL3gyNjQuaHRtbCAtIG9wdGlvbnM6IGNhYmFjPTEgcmVmPTMgZGVibG9jaz0xOjA6MCBhbmFseXNlPTB4MToweDExMSBtZT1oZXggc3VibWU9NyBwc3k9MSBwc3lfcmQ9MS4wMDowLjAwIG1peGVkX3JlZj0xIG1lX3JhbmdlPTE2IGNocm9tYV9tZT0xIHRyZWxsaXM9MSA4eDhkY3Q9MCBjcW09MCBkZWFkem9uZT0yMSwxMSBmYXN0X3Bza2lwPTEgY2hyb21hX3FwX29mZnNldD00IHRocmVhZHM9NiBsb29rYWhlYWRfdGhyZWFkcz0xIHNsaWNlZF90aHJlYWRzPTAgbnI9MCBkZWNpbWF0ZT0xIGludGVybGFjZWQ9MCBibHVyYXlfY29tcGF0PTAgY29uc3RyYWluZWRfaW50cmE9MCBiZnJhbWVzPTMgYl9weXJhbWlkPTIgYl9hZGFwdD0xIGJfYmlhcz0wIGRpcmVjdD0xIHdlaWdodGI9MSBvcGVuX2dvcD0wIHdlaWdodHA9MiBrZXlpbnQ9MjUwIGtleWludF9taW49MjUgc2NlbmVjdXQ9NDAgaW50cmFfcmVmcmVzaD0wIHJjX2xvb2thaGVhZD00MCByYz1jcmYgbWJ0cmVlPTEgY3JmPTIzLjAgcWNvbXA9MC42MCBxcG1pbj0wIHFwbWF4PTY5IHFwc3RlcD00IGlwX3JhdGlvPTEuNDAgYXE9MToxLjAwAIAAAALaZYiEADP//vaG+BTYUyP+T7/8I/+5H7cfWfrixkIJvrVeQ9GAMl8a/5lGYaXpyc8t7R+vTNAEZz8ZS8pZp9o/ApmtrL5lb/b/oua27Jy2JRlKnFY8pTsQGlLZl51sZtnVzAkbFmhVIAmRkt9LAk0PjSrwKqHe56owITaHIskPpxHGO6jZGYxJKmlm/vT2sA6NxEe94FegGkRoNczti8yq7bBgycAnvCAUOBynWHYDlemkfGl0VXp3+MWTdRkv0s8FXs+LFhSafLQBH+QbOVHI+8J/DJs+KWgEySGpFHGERMqpMKZcoma6NkWNZAeJvzf5siqpQhM96sxNSApnlCQkdhimUdLK5AMZuGB1eL2PmBh86ua59CJd+pO/UJtFFUw3AflHosMr375F4LAzYyxHEVMr0JloLL84LouB+tgSsX6DkkkP8Q/9VyGpq3HSIXAtACpFXFGRERbmGDzN9j58ojU7kMK54nsNrSBwceo3K/wdpLShUZxtiFX+QMCcgPIn/UMrUkEZWdp71Xo9lKfvFhXGnREkLctvI3TvfQ5gFisyZQks1/00VymIphsS2JUw9W/QefSMWRNQlrM6buNYZ+WNXW7jIiiID9q1aY80by0PZz8Onm6sNDvwOoDUADhs3ik84Rf/YT1MeQLj7OyQ0rnFOI2FshwSwydcAfVAIfoOTy09iBb2aibRSaw67cioiaSiY2uzx7lAL1xYIw853CiRCGq/o872wjq2Xin6sSt5iSTZcXjKCUYXiLd4pTVy7j/sUjXtUJI0AAQwoA/Chj62UdAeedrsh9r1PfWEU6HEdDvLhFweWd4/TTebVwodMcRWdlZ1lb7ZJgTwJbLIBqVUhY7xLEH8gHUQ2yUyjO74NjOB42thSkotMNDpfpKLrGLmSA+UOqH/1WEG2v8fmwBSedVdDymLSduPGp7QK/gLusyPKEw5O081wxgwuorcP5rwDQX2mADYgQAAABNBmiFsQz/+nhAAyfv7+TBH1hQ8AAAAF0GaQjwhkymEN//+p4QAIN8dMf4fVtx5AAAAHkGaZEnhDyZTBTw3//6nhAAw7q2Yn+rt7qfhDOcPbAAAABABnoNqQr8AJ9ZEJuM+vT5JAAAAG0GahUnhDyZTAhv//qeEAEtQBZttoDA3P3VUgQAAACJBmqlJ4Q8mUwIZ//6eEAG5X3XEc/qyhBrB3agv2BeujM5dAAAAEkGex0URPC//AENz+A0dRncVoQAAAA8BnuZ0Qr8APi2Brr4toIAAAAAQAZ7oakK/AF0siE3GfXpwuAAAAB5BmupJqEFomUwIZ//+nhABuV+JMRy+2AzpZD/YOBEAAAAYQZsLSeEKUmUwIZ/+nhABsfX3dpzdxbf8AAAAGEGbLEnhDomUwIZ//p4QAaf393ac3cW4HAAAABtBm01J4Q8mUwIb//6nhABp/gMAmvXsz4Ir0kEAAAAgQZtvSeEPJlMFETw3//6nhACepfh4MOXFxsvTg/3w2YEAAAAQAZ+OakK/AH75w17zSs2+YQAAABlBm5BJ4Q8mUwIb//6nhADsHGf6rfMfiDegAAAAIEGbsknhDyZTBRE8N//+p4QBjcZmps20f7PHGRm/UGm4AAAAEAGf0WpCvwE22eW4bNqY+4EAAAAZQZvWSeEPJlMCGf/+nhARLtR8dd4Apu95FwAAABZBn/RFETwv/wFwPv0zikhAElGFG8bMAAAADwGeE3RCvwHsRDMhoGZxswAAABABnhVqQr8B67L9UfMfi2DAAAAAGUGaF0moQWiZTAhn//6eEAYLxD+zMx9Xyk8AAAAYQZo4SeEKUmUwIZ/+nhADtevv5EiPrCHHAAAAGUGaWUnhDomUwIb//qeEAJ98dPqONCQ4VMAAAAAYQZp6SeEPJlMCG//+p4QAZ32D17M+CK9TAAAAHUGanEnhDyZTBRE8N//+p4QAYks5VLfGZd39u8WAAAAADwGeu2pCvwBQ7KN1nqz16QAAABJBmr5J4Q8mUwU8N//+p4QAAScAAAAPAZ7dakK/AFDso3WerPXpAAAAEkGawEnhDyZTBTw3//6nhAABJwAAAA8Bnv9qQr8AUOyjdZ6s9ekAAAASQZriSeEPJlMFPDf//qeEAAEnAAAADwGfAWpCvwBQ7KN1nqz16QAAABJBmwRJ4Q8mUwU8N//+p4QAAScAAAAPAZ8jakK/AFDso3WerPXpAAAAEkGbJknhDyZTBTw3//6nhAABJwAAAA8Bn0VqQr8AUOyjdZ6s9ekAAAASQZtISeEPJlMFPDf//qeEAAEnAAAADwGfZ2pCvwBQ7KN1nqz16QAAABJBm2pJ4Q8mUwU8N//+p4QAAScAAAAPAZ+JakK/AFDso3WerPXpAAAAEkGbjEnhDyZTBTw3//6nhAABJwAAAA8Bn6tqQr8AUOyjdZ6s9ekAAAASQZuuSeEPJlMFPDf//qeEAAEnAAAADwGfzWpCvwBQ7KN1nqz16QAAABJBm9BJ4Q8mUwU8N//+p4QAAScAAAAPAZ/vakK/AFDso3WerPXpAAAAEkGb8knhDyZTBTw3//6nhAABJwAAAA8BnhFqQr8AUOyjdZ6s9ekAAAASQZoUSeEPJlMFPDf//qeEAAEnAAAADwGeM2pCvwBQ7KN1nqz16QAAABJBmjZJ4Q8mUwU8N//+p4QAAScAAAAPAZ5VakK/AFDso3WerPXpAAAAEkGaWEnhDyZTBTw3//6nhAABJwAAAA8BnndqQr8AUOyjdZ6s9ekAAAASQZp6SeEPJlMFPDf//qeEAAEnAAAADwGemWpCvwBQ7KN1nqz16QAAABJBmpxJ4Q8mUwU8N//+p4QAAScAAAAPAZ67akK/AFDso3WerPXpAAAAEkGavknhDyZTBTw3//6nhAABJwAAAA8Bnt1qQr8AUOyjdZ6s9ekAAAASQZrASeEPJlMFPDf//qeEAAEnAAAADwGe/2pCvwBQ7KN1nqz16QAAABJBmuJJ4Q8mUwU8N//+p4QAAScAAAAPAZ8BakK/AFDso3WerPXpAAAAEkGbBEnhDyZTBTw3//6nhAABJwAAAA8BnyNqQr8AUOyjdZ6s9ekAAAASQZsmSeEPJlMFPDf//qeEAAEnAAAADwGfRWpCvwBQ7KN1nqz16QAAABJBm0hJ4Q8mUwU8N//+p4QAAScAAAAPAZ9nakK/AFDso3WerPXpAAAAEkGbaknhDyZTBTw3//6nhAABJwAAAA8Bn4lqQr8AUOyjdZ6s9ekAAAASQZuMSeEPJlMFPDf//qeEAAEnAAAADwGfq2pCvwBQ7KN1nqz16QAAABJBm65J4Q8mUwU8N//+p4QAAScAAAAPAZ/NakK/AFDso3WerPXpAAAAEkGb0EnhDyZTBTw3//6nhAABJwAAAA8Bn+9qQr8AUOyjdZ6s9ekAAAASQZvySeEPJlMFPDf//qeEAAEnAAAADwGeEWpCvwBQ7KN1nqz16QAAABJBmhRJ4Q8mUwU8N//+p4QAAScAAAAPAZ4zakK/AFDso3WerPXpAAAAEkGaNknhDyZTBTw3//6nhAABJwAAAA8BnlVqQr8AUOyjdZ6s9ekAAAASQZpYSeEPJlMFPDf//qeEAAEnAAAADwGed2pCvwBQ7KN1nqz16QAAABJBmnpJ4Q8mUwU8N//+p4QAAScAAAAPAZ6ZakK/AFDso3WerPXpAAAAEkGanEnhDyZTBTw3//6nhAABJwAAAA8BnrtqQr8AUOyjdZ6s9ekAAAASQZq+SeEPJlMFPDf//qeEAAEnAAAADwGe3WpCvwBQ7KN1nqz16QAAABJBmsBJ4Q8mUwU8N//+p4QAAScAAAAPAZ7/akK/AFDso3WerPXpAAAAEkGa4knhDyZTBTw3//6nhAABJwAAAA8BnwFqQr8AUOyjdZ6s9ekAAAASQZsESeEPJlMFPDf//qeEAAEnAAAADwGfI2pCvwBQ7KN1nqz16QAAABJBmyZJ4Q8mUwU8N//+p4QAAScAAAAPAZ9FakK/AFDso3WerPXpAAAAEkGbSEnhDyZTBTw3//6nhAABJwAAAA8Bn2dqQr8AUOyjdZ6s9ekAAAASQZtqSeEPJlMFPDf//qeEAAEnAAAADwGfiWpCvwBQ7KN1nqz16QAAABJBm4xJ4Q8mUwU8N//+p4QAAScAAAAPAZ+rakK/AFDso3WerPXpAAAAEkGbrknhDyZTBTw3//6nhAABJwAAAA8Bn81qQr8AUOyjdZ6s9ekAAAASQZvQSeEPJlMFPDf//qeEAAEnAAAADwGf72pCvwBQ7KN1nqz16QAAABJBm/JJ4Q8mUwU8N//+p4QAAScAAAAPAZ4RakK/AFDso3WerPXpAAAAEkGaFEnhDyZTBTw3//6nhAABJwAAAA8BnjNqQr8AUOyjdZ6s9ekAAAASQZo2SeEPJlMFPDf//qeEAAEnAAAADwGeVWpCvwBQ7KN1nqz16QAAABJBmlhJ4Q8mUwU8N//+p4QAAScAAAAPAZ53akK/AFDso3WerPXpAAAAEkGaeknhDyZTBTw3//6nhAABJwAAAA8BnplqQr8AUOyjdZ6s9ekAAAASQZqcSeEPJlMFPDf//qeEAAEnAAAADwGeu2pCvwBQ7KN1nqz16QAAABJBmr5J4Q8mUwU8N//+p4QAAScAAAAPAZ7dakK/AFDso3WerPXpAAAAEkGawEnhDyZTBTw3//6nhAABJwAAAA8Bnv9qQr8AUOyjdZ6s9ekAAAASQZriSeEPJlMFPDf//qeEAAEnAAAADwGfAWpCvwBQ7KN1nqz16QAAABJBmwRJ4Q8mUwU8N//+p4QAAScAAAAPAZ8jakK/AFDso3WerPXpAAAAEkGbJknhDyZTBTw3//6nhAABJwAAAA8Bn0VqQr8AUOyjdZ6s9ekAAAASQZtISeEPJlMFPDf//qeEAAEnAAAADwGfZ2pCvwBQ7KN1nqz16QAAABJBm2pJ4Q8mUwU8N//+p4QAAScAAAAPAZ+JakK/AFDso3WerPXpAAAAEkGbjEnhDyZTBTw3//6nhAABJwAAAA8Bn6tqQr8AUOyjdZ6s9ekAAAASQZuuSeEPJlMFPDf//qeEAAEnAAAADwGfzWpCvwBQ7KN1nqz16QAAABJBm9BJ4Q8mUwU8N//+p4QAAScAAAAPAZ/vakK/AFDso3WerPXpAAAAEkGb8knhDyZTBTw3//6nhAABJwAAAA8BnhFqQr8AUOyjdZ6s9ekAAAASQZoUSeEPJlMFPDf//qeEAAEnAAAADwGeM2pCvwBQ7KN1nqz16QAAABJBmjZJ4Q8mUwU8N//+p4QAAScAAAAPAZ5VakK/AFDso3WerPXpAAAAEkGaWEnhDyZTBTw3//6nhAABJwAAAA8BnndqQr8AUOyjdZ6s9ekAAAASQZp6SeEPJlMFPDf//qeEAAEnAAAADwGemWpCvwBQ7KN1nqz16QAAABJBmpxJ4Q8mUwU8N//+p4QAAScAAAAPAZ67akK/AFDso3WerPXpAAAAEkGavknhDyZTBTw3//6nhAABJwAAAA8Bnt1qQr8AUOyjdZ6s9ekAAAASQZrASeEPJlMFPDf//qeEAAEnAAAADwGe/2pCvwBQ7KN1nqz16QAAABJBmuJJ4Q8mUwU8N//+p4QAAScAAAAPAZ8BakK/AFDso3WerPXpAAAAEkGbBEnhDyZTBTw3//6nhAABJwAAAA8BnyNqQr8AUOyjdZ6s9ekAAAASQZsmSeEPJlMFPDf//qeEAAEnAAAADwGfRWpCvwBQ7KN1nqz16QAAABJBm0hJ4Q8mUwU8N//+p4QAAScAAAAPAZ9nakK/AFDso3WerPXpAAAAEkGbaknhDyZTBTw3//6nhAABJwAAAA8Bn4lqQr8AUOyjdZ6s9ekAAAASQZuMSeEPJlMFPDf//qeEAAEnAAAADwGfq2pCvwBQ7KN1nqz16QAAABJBm65J4Q8mUwU8N//+p4QAAScAAAAPAZ/NakK/AFDso3WerPXpAAAAEkGb0EnhDyZTBTw3//6nhAABJwAAAA8Bn+9qQr8AUOyjdZ6s9ekAAAASQZvySeEPJlMFPDf//qeEAAEnAAAADwGeEWpCvwBQ7KN1nqz16QAAABJBmhRJ4Q8mUwU8N//+p4QAAScAAAAPAZ4zakK/AFDso3WerPXpAAAAEkGaNknhDyZTBTw3//6nhAABJwAAAA8BnlVqQr8AUOyjdZ6s9ekAAAASQZpYSeEPJlMFPDf//qeEAAEnAAAADwGed2pCvwBQ7KN1nqz16QAAABJBmnpJ4Q8mUwU8N//+p4QAAScAAAAPAZ6ZakK/AFDso3WerPXpAAAAEkGanEnhDyZTBTw3//6nhAABJwAAAA8BnrtqQr8AUOyjdZ6s9ekAAAASQZq+SeEPJlMFPDf//qeEAAEnAAAADwGe3WpCvwBQ7KN1nqz16QAAABJBmsBJ4Q8mUwU8N//+p4QAAScAAAAPAZ7/akK/AFDso3WerPXpAAAAEkGa4knhDyZTBTw3//6nhAABJwAAAA8BnwFqQr8AUOyjdZ6s9ekAAAASQZsESeEPJlMFPDP//p4QAAR8AAAADwGfI2pCvwBQ7KN1nqz16QAAABJBmyZJ4Q8mUwU8M//+nhAABH0AAAAPAZ9FakK/AFDso3WerPXpAAAAEkGbSEnhDyZTBTwv//6MsAAEjQAAAA8Bn2dqQr8AUOyjdZ6s9ekAAAAaQZtpS+EIQ8kRggoB/IB/YeAIV//+OEAAEXAAAAxIbW9vdgAAAGxtdmhkAAAAAAAAAAAAAAAAAAAD6AAAH5AAAQAAAQAAAAAAAAAAAAAAAAEAAAAAAAAAAAAAAAAAAAABAAAAAAAAAAAAAAAAAABAAAAAAAAAAAAAAAAAAAAAAAAAAAAAAAAAAAAAAAAAAgAAC3J0cmFrAAAAXHRraGQAAAADAAAAAAAAAAAAAAABAAAAAAAAH5AAAAAAAAAAAAAAAAAAAAAAAAEAAAAAAAAAAAAAAAAAAAABAAAAAAAAAAAAAAAAAABAAAAAARAAAAEQAAAAAAAkZWR0cwAAABxlbHN0AAAAAAAAAAEAAB+QAAAEAAABAAAAAArqbWRpYQAAACBtZGhkAAAAAAAAAAAAAAAAAAAyAAABlABVxAAAAAAALWhkbHIAAAAAAAAAAHZpZGUAAAAAAAAAAAAAAABWaWRlb0hhbmRsZXIAAAAKlW1pbmYAAAAUdm1oZAAAAAEAAAAAAAAAAAAAACRkaW5mAAAAHGRyZWYAAAAAAAAAAQAAAAx1cmwgAAAAAQAAClVzdGJsAAAAlXN0c2QAAAAAAAAAAQAAAIVhdmMxAAAAAAAAAAEAAAAAAAAAAAAAAAAAAAAAARABEABIAAAASAAAAAAAAAABAAAAAAAAAAAAAAAAAAAAAAAAAAAAAAAAAAAAAAAAAAAAGP//AAAAL2F2Y0MB9AAN/+EAF2f0AA2RmygiEdCAAAADAIAAABkHihTLAQAFaOvjxEgAAAAYc3R0cwAAAAAAAAABAAAAygAAAgAAAAAUc3RzcwAAAAAAAAABAAAAAQAABiBjdHRzAAAAAAAAAMIAAAADAAAEAAAAAAEAAAYAAAAAAQAAAgAAAAABAAAEAAAAAAEAAAoAAAAAAQAABAAAAAABAAAAAAAAAAEAAAIAAAAABAAABAAAAAABAAAGAAAAAAEAAAIAAAAAAQAABAAAAAABAAAGAAAAAAEAAAIAAAAAAQAACgAAAAABAAAEAAAAAAEAAAAAAAAAAQAAAgAAAAAEAAAEAAAAAAEAAAYAAAAAAQAAAgAAAAABAAAGAAAAAAEAAAIAAAAAAQAABgAAAAABAAACAAAAAAEAAAYAAAAAAQAAAgAAAAABAAAGAAAAAAEAAAIAAAAAAQAABgAAAAABAAACAAAAAAEAAAYAAAAAAQAAAgAAAAABAAAGAAAAAAEAAAIAAAAAAQAABgAAAAABAAACAAAAAAEAAAYAAAAAAQAAAgAAAAABAAAGAAAAAAEAAAIAAAAAAQAABgAAAAABAAACAAAAAAEAAAYAAAAAAQAAAgAAAAABAAAGAAAAAAEAAAIAAAAAAQAABgAAAAABAAACAAAAAAEAAAYAAAAAAQAAAgAAAAABAAAGAAAAAAEAAAIAAAAAAQAABgAAAAABAAACAAAAAAEAAAYAAAAAAQAAAgAAAAABAAAGAAAAAAEAAAIAAAAAAQAABgAAAAABAAACAAAAAAEAAAYAAAAAAQAAAgAAAAABAAAGAAAAAAEAAAIAAAAAAQAABgAAAAABAAACAAAAAAEAAAYAAAAAAQAAAgAAAAABAAAGAAAAAAEAAAIAAAAAAQAABgAAAAABAAACAAAAAAEAAAYAAAAAAQAAAgAAAAABAAAGAAAAAAEAAAIAAAAAAQAABgAAAAABAAACAAAAAAEAAAYAAAAAAQAAAgAAAAABAAAGAAAAAAEAAAIAAAAAAQAABgAAAAABAAACAAAAAAEAAAYAAAAAAQAAAgAAAAABAAAGAAAAAAEAAAIAAAAAAQAABgAAAAABAAACAAAAAAEAAAYAAAAAAQAAAgAAAAABAAAGAAAAAAEAAAIAAAAAAQAABgAAAAABAAACAAAAAAEAAAYAAAAAAQAAAgAAAAABAAAGAAAAAAEAAAIAAAAAAQAABgAAAAABAAACAAAAAAEAAAYAAAAAAQAAAgAAAAABAAAGAAAAAAEAAAIAAAAAAQAABgAAAAABAAACAAAAAAEAAAYAAAAAAQAAAgAAAAABAAAGAAAAAAEAAAIAAAAAAQAABgAAAAABAAACAAAAAAEAAAYAAAAAAQAAAgAAAAABAAAGAAAAAAEAAAIAAAAAAQAABgAAAAABAAACAAAAAAEAAAYAAAAAAQAAAgAAAAABAAAGAAAAAAEAAAIAAAAAAQAABgAAAAABAAACAAAAAAEAAAYAAAAAAQAAAgAAAAABAAAGAAAAAAEAAAIAAAAAAQAABgAAAAABAAACAAAAAAEAAAYAAAAAAQAAAgAAAAABAAAGAAAAAAEAAAIAAAAAAQAABgAAAAABAAACAAAAAAEAAAYAAAAAAQAAAgAAAAABAAAGAAAAAAEAAAIAAAAAAQAABgAAAAABAAACAAAAAAEAAAYAAAAAAQAAAgAAAAABAAAGAAAAAAEAAAIAAAAAAQAABgAAAAABAAACAAAAAAEAAAYAAAAAAQAAAgAAAAABAAAGAAAAAAEAAAIAAAAAAQAABgAAAAABAAACAAAAAAEAAAYAAAAAAQAAAgAAAAABAAAGAAAAAAEAAAIAAAAAAQAABgAAAAABAAACAAAAAAEAAAYAAAAAAQAAAgAAAAABAAAGAAAAAAEAAAIAAAAAAQAABgAAAAABAAACAAAAAAEAAAYAAAAAAQAAAgAAAAABAAAGAAAAAAEAAAIAAAAAAQAABgAAAAABAAACAAAAAAEAAAYAAAAAAQAAAgAAAAABAAAGAAAAAAEAAAIAAAAAAQAABgAAAAABAAACAAAAAAEAAAYAAAAAAQAAAgAAAAABAAAGAAAAAAEAAAIAAAAAAQAABgAAAAABAAACAAAAAAEAAAYAAAAAAQAAAgAAAAABAAAGAAAAAAEAAAIAAAAAAQAABgAAAAABAAACAAAAAAEAAAQAAAAAHHN0c2MAAAAAAAAAAQAAAAEAAADKAAAAAQAAAzxzdHN6AAAAAAAAAAAAAADKAAAFjwAAABcAAAAbAAAAIgAAABQAAAAfAAAAJgAAABYAAAATAAAAFAAAACIAAAAcAAAAHAAAAB8AAAAkAAAAFAAAAB0AAAAkAAAAFAAAAB0AAAAaAAAAEwAAABQAAAAdAAAAHAAAAB0AAAAcAAAAIQAAABMAAAAWAAAAEwAAABYAAAATAAAAFgAAABMAAAAWAAAAEwAAABYAAAATAAAAFgAAABMAAAAWAAAAEwAAABYAAAATAAAAFgAAABMAAAAWAAAAEwAAABYAAAATAAAAFgAAABMAAAAWAAAAEwAAABYAAAATAAAAFgAAABMAAAAWAAAAEwAAABYAAAATAAAAFgAAABMAAAAWAAAAEwAAABYAAAATAAAAFgAAABMAAAAWAAAAEwAAABYAAAATAAAAFgAAABMAAAAWAAAAEwAAABYAAAATAAAAFgAAABMAAAAWAAAAEwAAABYAAAATAAAAFgAAABMAAAAWAAAAEwAAABYAAAATAAAAFgAAABMAAAAWAAAAEwAAABYAAAATAAAAFgAAABMAAAAWAAAAEwAAABYAAAATAAAAFgAAABMAAAAWAAAAEwAAABYAAAATAAAAFgAAABMAAAAWAAAAEwAAABYAAAATAAAAFgAAABMAAAAWAAAAEwAAABYAAAATAAAAFgAAABMAAAAWAAAAEwAAABYAAAATAAAAFgAAABMAAAAWAAAAEwAAABYAAAATAAAAFgAAABMAAAAWAAAAEwAAABYAAAATAAAAFgAAABMAAAAWAAAAEwAAABYAAAATAAAAFgAAABMAAAAWAAAAEwAAABYAAAATAAAAFgAAABMAAAAWAAAAEwAAABYAAAATAAAAFgAAABMAAAAWAAAAEwAAABYAAAATAAAAFgAAABMAAAAWAAAAEwAAABYAAAATAAAAFgAAABMAAAAWAAAAEwAAABYAAAATAAAAFgAAABMAAAAWAAAAEwAAABYAAAATAAAAFgAAABMAAAAWAAAAEwAAABYAAAATAAAAFgAAABMAAAAWAAAAEwAAABYAAAATAAAAFgAAABMAAAAWAAAAEwAAABYAAAATAAAAHgAAABRzdGNvAAAAAAAAAAEAAAAwAAAAYnVkdGEAAABabWV0YQAAAAAAAAAhaGRscgAAAAAAAAAAbWRpcmFwcGwAAAAAAAAAAAAAAAAtaWxzdAAAACWpdG9vAAAAHWRhdGEAAAABAAAAAExhdmY1OC4yNi4xMDE=\" type=\"video/mp4\" />\n",
       "             </video>"
      ],
      "text/plain": [
       "<IPython.core.display.HTML object>"
      ]
     },
     "execution_count": 79,
     "metadata": {},
     "output_type": "execute_result"
    }
   ],
   "source": [
    "HTML(display_videos('fc_test16.mp4'))"
   ]
  },
  {
   "cell_type": "markdown",
   "metadata": {},
   "source": [
    "> I noticed that the model with CNN layers is more efficient than the model with fully connected layers for all values of temperature. \n",
    "\n",
    "> One of the issues is that the rat oscillates remains stuck between two positions, which puts into question the exploratory power of models\n",
    "\n",
    "> "
   ]
  },
  {
   "cell_type": "markdown",
   "metadata": {},
   "source": [
    "***\n",
    "\n",
    "The algorithm tends to not explore the map which can be an issue. We propose two ideas in order to encourage exploration:\n",
    "1. Incorporating a decreasing $\\epsilon$-greedy exploration. You can use the method ```set_epsilon```\n",
    "2. Append via the environment a new state that describes if a cell has been visited or not\n",
    "\n",
    "***\n",
    "__Question 10__ Design a new ```train_explore``` function and environment class ```EnvironmentExploring``` to tackle the issue of exploration.\n",
    "\n"
   ]
  },
  {
   "cell_type": "code",
   "execution_count": null,
   "metadata": {},
   "outputs": [],
   "source": [
    "\n",
    "def train_explore(agent,env,epoch,prefix=''):\n",
    "    pass\n",
    "        \n",
    "class EnvironmentExploring(object):\n",
    "    def __init__(self, grid_size=10, max_time=500, temperature=0.1):\n",
    "        pass\n",
    "    \n",
    "## use those samples of code:\n",
    "#In train explore:\n",
    "state, reward, game_over = env.act(action, train=True)\n",
    "\n",
    "## In Environment exploring:\n",
    "# You will have to change n_state to 3 because you will use one more layer!\n",
    "reward = 0\n",
    "if train:\n",
    "    reward = -self.malus_position[self.x, self.y]\n",
    "self.malus_position[self.x, self.y] = 0.1\n",
    "\n",
    "reward = reward + self.board[self.x, self.y]\n",
    "# 3 \"feature\" states instead of 2\n",
    "state = np.concatenate((self.malus_position.reshape(self.grid_size, self.grid_size,1),\n",
    "                                self.board.reshape(self.grid_size, self.grid_size,1),\n",
    "                        self.position.reshape(self.grid_size, self.grid_size,1)),axis=2)"
   ]
  },
  {
   "cell_type": "code",
   "execution_count": 88,
   "metadata": {},
   "outputs": [],
   "source": [
    "# Training\n",
    "env = EnvironmentExploring(grid_size=size, max_time=T, temperature=0.3)\n",
    "agent = DQN_CNN(size, lr=.1, epsilon = 0.1, memory_size=2000, batch_size = 32,n_state=3)\n",
    "train_explore(agent, env, epochs_train, prefix='cnn_train_explore')\n",
    "HTML(display_videos('cnn_train_explore10.mp4'))"
   ]
  },
  {
   "cell_type": "code",
   "execution_count": null,
   "metadata": {},
   "outputs": [],
   "source": [
    "# Evaluation\n",
    "test(agent,env,epochs_test,prefix='cnn_test_explore')\n",
    "HTML(display_videos('cnn_test_explore10.mp4'))"
   ]
  },
  {
   "cell_type": "markdown",
   "metadata": {},
   "source": [
    "***\n",
    "***\n",
    "__BONUS question__ Use the expert DQN from the previous question to generate some winning games. Train a model that mimicks its behavior. Compare the performances."
   ]
  },
  {
   "cell_type": "markdown",
   "metadata": {},
   "source": []
  },
  {
   "cell_type": "markdown",
   "metadata": {},
   "source": [
    "***"
   ]
  }
 ],
 "metadata": {
  "kernelspec": {
   "display_name": "Python 3",
   "language": "python",
   "name": "python3"
  },
  "language_info": {
   "codemirror_mode": {
    "name": "ipython",
    "version": 3
   },
   "file_extension": ".py",
   "mimetype": "text/x-python",
   "name": "python",
   "nbconvert_exporter": "python",
   "pygments_lexer": "ipython3",
   "version": "3.5.2"
  }
 },
 "nbformat": 4,
 "nbformat_minor": 2
}
